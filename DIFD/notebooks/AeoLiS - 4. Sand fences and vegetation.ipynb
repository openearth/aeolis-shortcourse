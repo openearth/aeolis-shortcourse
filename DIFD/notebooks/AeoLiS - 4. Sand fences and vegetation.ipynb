{
 "cells": [
  {
   "cell_type": "markdown",
   "metadata": {},
   "source": [
    "![copyright](logo.png \"Copyright (c) 2017, Bas Hoonhout\")\n",
    "\n",
    "<div style=\"text-align: right\"> Aeolis workshop material Copyright (c) 2017, Bas Hoonhout </div>\n",
    "<div style=\"text-align: right\"> 2023, Aeolis developer team </div>\n",
    "\n"
   ]
  },
  {
   "cell_type": "markdown",
   "metadata": {},
   "source": [
    "# 4. Sand fences and vegetation\n",
    "\n",
    "This notebook introduces sand fences and vegetation dynamics in AeoLiS.\n",
    "Along with this notebook a series of AeoLiS model schematizations of the Dune In Front of Dike (DIFD) project is provided.\n",
    "These model schematizations can be used to answer a series of questions at the end of this notebook.\n",
    "Note that these model schematizations only have an educational purpose.\n",
    "\n",
    "Execute cells by selecting the cell and press **Shift-Enter**."
   ]
  },
  {
   "cell_type": "markdown",
   "metadata": {},
   "source": [
    "### Helper functions\n",
    "\n",
    "Execute the next cell with **Shift-Enter** to enable the helper functions.\n",
    "Adapt the functions if appropriate."
   ]
  },
  {
   "cell_type": "code",
   "execution_count": null,
   "metadata": {},
   "outputs": [],
   "source": [
    "%matplotlib inline\n",
    "\n",
    "from plot_tools_DIFD_4 import *"
   ]
  },
  {
   "cell_type": "markdown",
   "metadata": {},
   "source": [
    "Use the commands ``[functionname]?`` or ``[functionname]??`` to get usage information on a particular function.\n",
    "\n",
    "Uncomment one of the following lines and press **Shift-Enter** to see usage information of one of the helper functions."
   ]
  },
  {
   "cell_type": "code",
   "execution_count": null,
   "metadata": {},
   "outputs": [],
   "source": [
    "#plot_topo_fence??\n",
    "#plot_topo_veg??\n",
    "#compare_topo??\n",
    "#compare_flux??"
   ]
  },
  {
   "cell_type": "markdown",
   "metadata": {},
   "source": [
    "## 4.1 Run AeoLiS 1D with sand fences\n",
    "\n",
    "Run the DIFD model from the third notebook (see AeoLiS - 3. 1D case with moisture effects) again, but now with tides enabled. Use the following command:\n",
    "\n",
    "``aeolis run difd_1year_moisture0_veg0_fence1.txt``\n",
    "\n",
    "Plot the profile evolution."
   ]
  },
  {
   "cell_type": "code",
   "execution_count": null,
   "metadata": {},
   "outputs": [],
   "source": [
    "plot_topo_fence('../models/difd_1year_moisture0_veg0_fence1.nc');"
   ]
  },
  {
   "cell_type": "markdown",
   "metadata": {},
   "source": [
    "## 4.2 Run AeoLiS 1D with vegetation\n",
    "\n",
    "Run the model again, but now with vegetation in front of the dike. Use the following command:\n",
    "\n",
    "``aeolis run difd_1year_moisture0_veg1_fence0.txt``\n",
    "\n",
    "Plot the profile evolution."
   ]
  },
  {
   "cell_type": "code",
   "execution_count": null,
   "metadata": {},
   "outputs": [],
   "source": [
    "plot_topo_veg('../models/difd_1year_moisture0_veg1_fence0.nc');"
   ]
  },
  {
   "cell_type": "markdown",
   "metadata": {},
   "source": [
    "## 4.3 Compare dune development with sand fences and vegetation\n",
    "\n"
   ]
  },
  {
   "cell_type": "markdown",
   "metadata": {},
   "source": [
    "Compare the final profiles of the simulation with sand fence and vegetation"
   ]
  },
  {
   "cell_type": "code",
   "execution_count": null,
   "metadata": {
    "scrolled": true
   },
   "outputs": [],
   "source": [
    "compare_topo('../models/difd_1year_moisture0_veg0_fence1.nc','../models/difd_1year_moisture0_veg1_fence0.nc');"
   ]
  },
  {
   "cell_type": "markdown",
   "metadata": {},
   "source": [
    "Compare the flux towards the dike."
   ]
  },
  {
   "cell_type": "code",
   "execution_count": null,
   "metadata": {},
   "outputs": [],
   "source": [
    "compare_flux('../models/difd_1year_moisture0_veg0_fence1.nc','../models/difd_1year_moisture0_veg1_fence0.nc');"
   ]
  },
  {
   "cell_type": "markdown",
   "metadata": {},
   "source": [
    "## 4.4 Questions"
   ]
  },
  {
   "cell_type": "markdown",
   "metadata": {},
   "source": [
    "You just ran and analyzed two additional AeoLiS models. Please take some time to answer the following questions regarding these runs:\n",
    "\n",
    "- What is the difference between the sand fence and vegetation simulations?\n",
    "- How effective have the sand fence and vegetation been in mitigating sand movement towards the dike and promoting dune growth?\n",
    "- How do you expect the morphology to develop if you would keep running the sand fence and vegetation models for several more years?\n",
    "- What are the limitations of the models used to simulate the effect of sand fences and vegetation on dune morphology? What assumptions were made, and how might these affect the accuracy and applicability of the results?\n",
    "- How could the density and spacing of sand fences or vegetation affect dune development? How would you design a model to investigate these aspects? "
   ]
  },
  {
   "cell_type": "markdown",
   "metadata": {},
   "source": [
    "## Congratulations!"
   ]
  },
  {
   "cell_type": "markdown",
   "metadata": {},
   "source": [
    "You have finished the AeoLiS short course! You have learned to run AeoLiS models and evaluate their input and output. This means you can now start playing around with models that you create yourself! For instance, you can try out different sand fence and vegetation designs, or work on your own model case."
   ]
  },
  {
   "cell_type": "code",
   "execution_count": null,
   "metadata": {},
   "outputs": [],
   "source": []
  }
 ],
 "metadata": {
  "kernelspec": {
   "display_name": "Python 3 (ipykernel)",
   "language": "python",
   "name": "python3"
  },
  "language_info": {
   "codemirror_mode": {
    "name": "ipython",
    "version": 3
   },
   "file_extension": ".py",
   "mimetype": "text/x-python",
   "name": "python",
   "nbconvert_exporter": "python",
   "pygments_lexer": "ipython3",
   "version": "3.8.16"
  }
 },
 "nbformat": 4,
 "nbformat_minor": 2
}
