{
 "cells": [
  {
   "cell_type": "markdown",
   "metadata": {},
   "source": [
    "![copyright](logo.png \"Copyright (c) 2017, Bas Hoonhout\")\n",
    "\n",
    "<div style=\"text-align: right\"> Aeolis workshop material Copyright (c) 2017, Bas Hoonhout </div>\n",
    "<div style=\"text-align: right\"> 2023, Aeolis developer team </div>\n",
    "\n"
   ]
  },
  {
   "cell_type": "markdown",
   "metadata": {},
   "source": [
    "# 3. 1D case with moisture effects\n",
    "\n",
    "This notebook introduces a 1D simulation in AeoLiS with and without moisture effects on aeolian transport.\n",
    "Along with this notebook a series of AeoLiS model schematizations of the Dune in front of dike (DIFD) project is provided.\n",
    "These model schematizations can be used to answer a series of questions at the end of this notebook.\n",
    "Note that these model schematizations only have an educational purpose.\n",
    "\n",
    "Execute cells by selecting the cell and press **Shift-Enter**."
   ]
  },
  {
   "cell_type": "markdown",
   "metadata": {},
   "source": [
    "### Helper functions\n",
    "\n",
    "A few helper functions that you can use to analyze the model output can be found in the file ``plot_tools_DIFD_3.py`` that is shipped with this notebook.\n",
    "You need to execute the next cell with **Shift-Enter** to enable these helper functions.\n",
    "Adapt the functions if appropriate.\n",
    "\n",
    "The following functions are available:\n",
    "- ``plot_topo``\n",
    "- ``plot_flux``\n",
    "- ``plot_moisture_ave``\n",
    "- ``moisture_animation``\n",
    "- ``plot_flux_compare``"
   ]
  },
  {
   "cell_type": "code",
   "execution_count": null,
   "metadata": {},
   "outputs": [],
   "source": [
    "# this line causes plots to appear inline rather than in a separate window\n",
    "%matplotlib inline\n",
    "\n",
    "from plot_tools_DIFD_3 import *"
   ]
  },
  {
   "cell_type": "markdown",
   "metadata": {},
   "source": [
    "Use the commands ``[functionname]?`` or ``[functionname]??`` to get usage information on a particular function.\n",
    "\n",
    "Uncomment one of the following lines and press **Shift-Enter** to see usage information of one of the helper functions."
   ]
  },
  {
   "cell_type": "code",
   "execution_count": null,
   "metadata": {},
   "outputs": [],
   "source": [
    "#plot_topo??\n",
    "#plot_flux??\n",
    "#plot_moisture_ave??\n",
    "#moisture_animation??\n",
    "#plot_flux_compare??"
   ]
  },
  {
   "cell_type": "markdown",
   "metadata": {},
   "source": [
    "## 3.1 Run AeoLiS 1D\n",
    "\n",
    "First we will run the 1D case without accounting for moisture processes.\n",
    "\n",
    "- Leave this notebook and switch to your terminal.\n",
    "- Navigate to the DIFD model schematizations (located in the directory ``aeolis-shortcourse/DIFD/models/``).\n",
    "- Run the following command:\n",
    "\n",
    "  ``aeolis difd_1year_moisture0_veg0_fence0.txt``\n",
    "  \n",
    "You are now running a one year simulation of sediment transport on a beach backed by a concrete dike. This may take some time. Get a coffee. Relax. While you wait, you may also start the moisture simulation in section 3.2."
   ]
  },
  {
   "cell_type": "markdown",
   "metadata": {},
   "source": [
    "Plot the results. First we will view the initial profile and the final profile after one year simulation."
   ]
  },
  {
   "cell_type": "code",
   "execution_count": null,
   "metadata": {},
   "outputs": [],
   "source": [
    "plot_topo('../models/difd_1year_moisture0_veg0_fence0.nc');"
   ]
  },
  {
   "cell_type": "markdown",
   "metadata": {},
   "source": [
    "The initial and final profile almost align. This is because the sediment from the intertidal area is constantly replenished through the \"wet-bed-reset\" function.\n",
    "\n",
    "Plot the accumulated flux at the toe of the dike."
   ]
  },
  {
   "cell_type": "code",
   "execution_count": null,
   "metadata": {},
   "outputs": [],
   "source": [
    "plot_flux('../models/difd_1year_moisture0_veg0_fence0.nc');"
   ]
  },
  {
   "cell_type": "markdown",
   "metadata": {},
   "source": [
    "## 3.2 Run AeoLiS 1D with moisture processes\n",
    "\n",
    "Run the model model again, but now with moisture processes. Use the following command:\n",
    "\n",
    "``aeolis difd_1year_moisture1_veg0_fence0.txt``\n",
    "\n",
    "Explore the surface moisture variabilty.\n",
    "Plot the average moisture content across the profile."
   ]
  },
  {
   "cell_type": "code",
   "execution_count": null,
   "metadata": {},
   "outputs": [],
   "source": [
    "plot_moisture_ave('../models/difd_1year_moisture1_veg0_fence0.nc');"
   ]
  },
  {
   "cell_type": "markdown",
   "metadata": {},
   "source": [
    "Plot an animation of the groundwater and moisture content during one week. The movie file will be saved in your model folder, you can also open it from there (aeolis-shortcourse/DIFD/models/)."
   ]
  },
  {
   "cell_type": "code",
   "execution_count": null,
   "metadata": {
    "scrolled": true
   },
   "outputs": [],
   "source": [
    "moisture_animation('../models/difd_1year_moisture1_veg0_fence0.nc');"
   ]
  },
  {
   "cell_type": "markdown",
   "metadata": {},
   "source": [
    "## 3.3 Supply or transport limited conditions?\n",
    "\n",
    "In the sandmotor case the intertidal area was an important sediment source area due to sorting and armouring processes at the dry beach. In the DIFD case, no coarse sediment is present so we expect the moisture to have less influence on the transport rates towards the dike."
   ]
  },
  {
   "cell_type": "markdown",
   "metadata": {},
   "source": [
    "Plot the cumulative flux towards the dike for the simulation with and without moisture."
   ]
  },
  {
   "cell_type": "code",
   "execution_count": null,
   "metadata": {},
   "outputs": [],
   "source": [
    "plot_flux_compare('../models/difd_1year_moisture0_veg0_fence0.nc','../models/difd_1year_moisture1_veg0_fence0.nc');"
   ]
  },
  {
   "cell_type": "markdown",
   "metadata": {
    "collapsed": true
   },
   "source": [
    "## 3.4 Questions\n",
    "\n",
    "You just ran and analyzed two AeoLiS models. Please take some time to answer the following questions regarding these runs:\n",
    "\n",
    "- What was the simulation time?\n",
    "- What was the timestep?\n",
    "- What was the spatial resolution?\n",
    "- What was the wind speed and direction? Were they constant?\n",
    "- What were the boundary conditions? Can sediment leave or enter the model domain?\n",
    "- What differences do you see between these model runs? Can you explain them?\n",
    "- Hydrodynamic processes are not included in the AeoLiS models that you just ran. A wet_bed_reset was used to replenish sediment in the intertidal zone. In what settings is this an appropriate assumption?\n",
    "- How would the results change if the beach consisted of coarser sediments similar to those in the Sandmotor case?"
   ]
  },
  {
   "cell_type": "code",
   "execution_count": null,
   "metadata": {},
   "outputs": [],
   "source": []
  }
 ],
 "metadata": {
  "celltoolbar": "Raw Cell Format",
  "kernelspec": {
   "display_name": "Python 3 (ipykernel)",
   "language": "python",
   "name": "python3"
  },
  "language_info": {
   "codemirror_mode": {
    "name": "ipython",
    "version": 3
   },
   "file_extension": ".py",
   "mimetype": "text/x-python",
   "name": "python",
   "nbconvert_exporter": "python",
   "pygments_lexer": "ipython3",
   "version": "3.8.16"
  }
 },
 "nbformat": 4,
 "nbformat_minor": 2
}
