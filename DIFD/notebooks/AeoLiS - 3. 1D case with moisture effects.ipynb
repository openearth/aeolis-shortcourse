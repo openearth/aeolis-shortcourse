{
 "cells": [
  {
   "cell_type": "markdown",
   "metadata": {},
   "source": [
    "![copyright](logo.png \"Copyright (c) 2017, Bas Hoonhout\")\n",
    "\n",
    "<div style=\"text-align: right\"> Aeolis workshop material Copyright (c) 2017, Bas Hoonhout </div>\n",
    "<div style=\"text-align: right\"> 2023, Aeolis developer team </div>\n",
    "\n"
   ]
  },
  {
   "cell_type": "markdown",
   "metadata": {},
   "source": [
    "# 3. 1D case with moisture effects\n",
    "\n",
    "This notebook introduces a 1D simulation in AeoLiS with and without moisture effects on aeolian transport.\n",
    "Along with this notebook a series of AeoLiS model schematizations of the Dune in fron of dike (DIFD) project is provided.\n",
    "These model schematizations can be used to answer a series of questions at the end of this notebook.\n",
    "Note that these model schematizations are highly optimized for speed and only have an educational purpose.\n",
    "\n",
    "Execute cells by selecting the cell and press **Shift-Enter**."
   ]
  },
  {
   "cell_type": "markdown",
   "metadata": {},
   "source": [
    "\n",
    "*****CHANGE THIS******\n",
    "### Helper functions\n",
    "\n",
    "A few helper functions that you can use to analyze the model output can be found in the file ``plot_tools.py`` that is shipped with this notebook.\n",
    "You need to execute the next cell with **Shift-Enter** to enable these helper functions.\n",
    "Adapt the functions if appropriate.\n",
    "\n",
    "The following functions are available:\n",
    "- ``plot_bathymetry``\n",
    "- ``plot_erosion``\n",
    "- ``plot_erosion_multi``\n",
    "- ``plot_coverage``\n",
    "- ``create_animation``"
   ]
  },
  {
   "cell_type": "code",
   "execution_count": 2,
   "metadata": {},
   "outputs": [],
   "source": [
    "# this line causes plots to appear inline rather than in a separate window\n",
    "%matplotlib inline\n",
    "\n",
    "from plot_tools_DIFD import *"
   ]
  },
  {
   "cell_type": "markdown",
   "metadata": {},
   "source": [
    "Use the commands ``[functionname]?`` or ``[functionname]??`` to get usage information on a particular function.\n",
    "\n",
    "Uncomment one of the following lines and press **Shift-Enter** to see usage information of one of the helper functions."
   ]
  },
  {
   "cell_type": "code",
   "execution_count": 2,
   "metadata": {},
   "outputs": [],
   "source": [
    "#plot_bathymetry??\n",
    "#plot_erosion??\n",
    "#plot_erosion_multi??\n",
    "#plot_coverage??\n",
    "#create_animation??"
   ]
  },
  {
   "cell_type": "markdown",
   "metadata": {},
   "source": [
    "## 3.1 Run AeoLiS 1D\n",
    "\n",
    "First we will run the 1D without accounting for moisture processes.\n",
    "\n",
    "- Leave this notebook and switch to your terminal.\n",
    "- Navigate to the DIFD model schematizations (located in the directory ``aeolis-shortcourse/DIFD/models/``).\n",
    "- Run the following command:\n",
    "\n",
    "  ``aeolis difd_1year_moisture0_veg0_fence0.txt``\n",
    "  \n",
    "You are now running a one year simulation of sediment transport on a beach backed with a concrete dike. This may take some time. Get a coffee. Relax. While you wait, you may also start the moisture simulation in section 3.2."
   ]
  },
  {
   "cell_type": "markdown",
   "metadata": {},
   "source": [
    "Plot the results. First we will explore..."
   ]
  },
  {
   "cell_type": "markdown",
   "metadata": {},
   "source": [
    "## 3.2 Run AeoLiS 1D with moisture processes\n",
    "\n",
    "Run the model model again, but now with moisture processes. Use the following command:\n",
    "\n",
    "``aeolis difd_1year_moisture1_veg0_fence0.txt``\n",
    "\n",
    "And read the model output."
   ]
  },
  {
   "cell_type": "markdown",
   "metadata": {},
   "source": [
    "## 3.3 Supply or transport limited conditions?\n",
    "\n",
    "As you noted, the model including moisture simulations takes longer time to run. In the sandmotor case the intertidal area was an important sediment source area due to sorting and armouring processes at the dry beach. In the DIFD case, no coarse sediment is present."
   ]
  },
  {
   "cell_type": "markdown",
   "metadata": {
    "collapsed": true
   },
   "source": [
    "## 3.4 Questions\n",
    "\n",
    "You just ran and analyzed two AeoLiS models. Please take a moment to answer the following questions regarding these runs:\n",
    "\n",
    "1. What was the simulation time?\n",
    "- What was the timestep?\n",
    "- What was the spatial resolution?\n",
    "- What was the wind speed and direction? Were they constant?\n",
    "- What were the boundary conditions? Can sediment leave the model domain?\n",
    "- What model parameters affect the sediment distribution?\n",
    "- What model parameters affect sediment sorting and beach armoring?\n",
    "- What was the largest grain size fraction? Is it erodible?\n",
    "- What differences do you see between both model runs? Can you explain them?"
   ]
  },
  {
   "cell_type": "code",
   "execution_count": null,
   "metadata": {},
   "outputs": [],
   "source": []
  }
 ],
 "metadata": {
  "celltoolbar": "Raw Cell Format",
  "kernelspec": {
   "display_name": "Python 3 (ipykernel)",
   "language": "python",
   "name": "python3"
  },
  "language_info": {
   "codemirror_mode": {
    "name": "ipython",
    "version": 3
   },
   "file_extension": ".py",
   "mimetype": "text/x-python",
   "name": "python",
   "nbconvert_exporter": "python",
   "pygments_lexer": "ipython3",
   "version": "3.8.12"
  }
 },
 "nbformat": 4,
 "nbformat_minor": 2
}
