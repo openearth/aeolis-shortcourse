{
 "cells": [
  {
   "cell_type": "markdown",
   "metadata": {},
   "source": [
    "![copyright](logo.png \"Copyright (c) 2017, Bas Hoonhout\")\n",
    "\n",
    "<div style=\"text-align: right\"> Aeolis workshop material Copyright (c) 2017, Bas Hoonhout </div>\n",
    "<div style=\"text-align: right\"> 2023, Aeolis developer team </div>\n",
    "\n"
   ]
  },
  {
   "cell_type": "markdown",
   "metadata": {},
   "source": [
    "# 4. Sand fences and vegetation\n",
    "\n",
    "This notebook introduces sand fences and vegetation dynamics in AeoLiS.\n",
    "Along with this notebook a series of AeoLiS model schematizations of the Dune In Front of Dike (DIFD) project is provided.\n",
    "These model schematizations can be used to answer a series of questions at the end of this notebook.\n",
    "Note that these model schematizations are highly optimized for speed and only have an educational purpose.\n",
    "\n",
    "Execute cells by selecting the cell and press **Shift-Enter**."
   ]
  },
  {
   "cell_type": "markdown",
   "metadata": {},
   "source": [
    "### Helper functions\n",
    "\n",
    "Execute the next cell with **Shift-Enter** to enable the helper functions.\n",
    "Adapt the functions if appropriate."
   ]
  },
  {
   "cell_type": "code",
   "execution_count": 1,
   "metadata": {},
   "outputs": [],
   "source": [
    "%matplotlib inline\n",
    "\n",
    "from plot_tools import *"
   ]
  },
  {
   "cell_type": "markdown",
   "metadata": {},
   "source": [
    "## 4.1 Run AeoLiS 1D with sand fences\n",
    "\n",
    "Run the Sand Motor model from the first notebook (see AeoLiS - 1. Introduction) again, but now with tides enabled. Use the following command:\n",
    "\n",
    "``aeolis difd_1year_moisture0_veg0_fence1.txt``\n",
    "\n",
    "And read the model output."
   ]
  },
  {
   "cell_type": "markdown",
   "metadata": {},
   "source": [
    "## 4.2 Run AeoLiS 1D with vegetation\n",
    "\n",
    "Run the model again, but now with tides and waves enabled. Use the following command:\n",
    "\n",
    "``aeolis difd_1year_moisture0_veg1_fence0.txt``\n",
    "\n",
    "And read the model output."
   ]
  },
  {
   "cell_type": "markdown",
   "metadata": {},
   "source": [
    "## 4.3 Compare dune development with sand fences and vegetation\n",
    "\n"
   ]
  },
  {
   "cell_type": "markdown",
   "metadata": {},
   "source": [
    "## 4.4 Questions"
   ]
  },
  {
   "cell_type": "markdown",
   "metadata": {},
   "source": [
    "You just ran and analyzed two additional AeoLiS models. Please take a moment to answer the following questions regarding these runs:\n",
    "\n",
    "1. What is the effect of tides on aeolian sediment transport?\n",
    "- What is the effect of waves on aeolian sediment transport?\n",
    "- What model parameters affect the influence of non-erodible elements?\n",
    "- Can you plot the coverage of the erodible sediment fractions instead (see the function `plot_coverage` in `plot_tools.py`)?\n",
    "- What is the wave height imposed to the model? Is it constant?\n",
    "- What is the tidal range imposed to the model? The actual tidal range is closer to 2 m. What is the effect on the model results when you impose a more realistic tidal range?"
   ]
  },
  {
   "cell_type": "code",
   "execution_count": null,
   "metadata": {},
   "outputs": [],
   "source": []
  }
 ],
 "metadata": {
  "kernelspec": {
   "display_name": "Python 3 (ipykernel)",
   "language": "python",
   "name": "python3"
  },
  "language_info": {
   "codemirror_mode": {
    "name": "ipython",
    "version": 3
   },
   "file_extension": ".py",
   "mimetype": "text/x-python",
   "name": "python",
   "nbconvert_exporter": "python",
   "pygments_lexer": "ipython3",
   "version": "3.8.12"
  }
 },
 "nbformat": 4,
 "nbformat_minor": 2
}
